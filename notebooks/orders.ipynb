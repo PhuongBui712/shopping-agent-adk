{
 "cells": [
  {
   "cell_type": "code",
   "execution_count": 1,
   "metadata": {},
   "outputs": [],
   "source": [
    "import os\n",
    "import json\n",
    "\n",
    "from pymongo import AsyncMongoClient\n",
    "from elasticsearch import AsyncElasticsearch"
   ]
  },
  {
   "cell_type": "code",
   "execution_count": 2,
   "metadata": {},
   "outputs": [],
   "source": [
    "client = AsyncMongoClient(os.getenv(\"MONGODB_URI\"))\n",
    "database = client[\"mega-market-database\"]\n",
    "collection = database[\"orders\"]\n",
    "\n",
    "res = await collection.insert_one({\"name\": \"test-data\"})"
   ]
  },
  {
   "cell_type": "code",
   "execution_count": 6,
   "metadata": {},
   "outputs": [
    {
     "data": {
      "text/plain": [
       "pymongo.asynchronous.collection.AsyncCollection"
      ]
     },
     "execution_count": 6,
     "metadata": {},
     "output_type": "execute_result"
    }
   ],
   "source": [
    "type(collection.insert_one())"
   ]
  },
  {
   "cell_type": "code",
   "execution_count": 2,
   "metadata": {},
   "outputs": [],
   "source": [
    "client = AsyncElasticsearch(\n",
    "    hosts=os.getenv(\"ELASTICSEARCH_HOST\"),\n",
    "    api_key=os.getenv(\"ELASTICSEARCH_API_KEY\")\n",
    ")"
   ]
  },
  {
   "cell_type": "code",
   "execution_count": 5,
   "metadata": {},
   "outputs": [],
   "source": [
    "data = await client.get(\n",
    "    index=\"product-data\",\n",
    "    id=\"RCQ068\"\n",
    ")"
   ]
  },
  {
   "cell_type": "code",
   "execution_count": 9,
   "metadata": {},
   "outputs": [
    {
     "data": {
      "text/plain": [
       "{'product_id': 'RCQ068',\n",
       " 'product_name': 'Cà Chua Bi',\n",
       " 'product_description': 'Cà chua bi ngọt, mọng nước, ăn sống hoặc làm salad.',\n",
       " 'price': 30000,\n",
       " 'discount': 10,\n",
       " 'url': 'https://example.com/ca-chua-bi',\n",
       " 'category': 'RAU - CỦ - QUẢ'}"
      ]
     },
     "execution_count": 9,
     "metadata": {},
     "output_type": "execute_result"
    }
   ],
   "source": [
    "data[\"_source\"]"
   ]
  }
 ],
 "metadata": {
  "kernelspec": {
   "display_name": ".venv",
   "language": "python",
   "name": "python3"
  },
  "language_info": {
   "codemirror_mode": {
    "name": "ipython",
    "version": 3
   },
   "file_extension": ".py",
   "mimetype": "text/x-python",
   "name": "python",
   "nbconvert_exporter": "python",
   "pygments_lexer": "ipython3",
   "version": "3.12.9"
  }
 },
 "nbformat": 4,
 "nbformat_minor": 2
}
