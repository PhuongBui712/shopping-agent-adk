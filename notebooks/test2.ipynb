{
 "cells": [
  {
   "cell_type": "code",
   "execution_count": 1,
   "metadata": {},
   "outputs": [],
   "source": [
    "# Full runnable code for the StoryFlowAgent example\n",
    "from typing import AsyncGenerator\n",
    "from typing_extensions import override\n",
    "\n",
    "from loguru import logger\n",
    "from pydantic import BaseModel, Field\n",
    "from google.adk.agents import LlmAgent, BaseAgent, LoopAgent, SequentialAgent\n",
    "from google.adk.agents.invocation_context import InvocationContext\n",
    "from google.genai import types\n",
    "from google.adk.sessions import InMemorySessionService\n",
    "from google.adk.runners import Runner\n",
    "from google.adk.events import Event"
   ]
  },
  {
   "cell_type": "code",
   "execution_count": 2,
   "metadata": {},
   "outputs": [],
   "source": [
    "from typing import AsyncGenerator\n",
    "from typing_extensions import override\n",
    "\n",
    "from google.adk.agents import BaseAgent\n",
    "from google.adk.events.event import Event\n",
    "from google.genai import types\n",
    "from google.adk.agents.invocation_context import InvocationContext\n"
   ]
  },
  {
   "cell_type": "code",
   "execution_count": 4,
   "metadata": {},
   "outputs": [],
   "source": [
    "# --- Constants ---\n",
    "APP_NAME = \"story_app\"\n",
    "USER_ID = \"12345\"\n",
    "SESSION_ID = \"123344\"\n",
    "GEMINI_2_FLASH = \"gemini-2.0-flash\""
   ]
  },
  {
   "cell_type": "code",
   "execution_count": 5,
   "metadata": {},
   "outputs": [],
   "source": [
    "agent = DummyAgent(name=\"dummy\")"
   ]
  },
  {
   "cell_type": "code",
   "execution_count": 6,
   "metadata": {},
   "outputs": [
    {
     "name": "stderr",
     "output_type": "stream",
     "text": [
      "\u001b[32m2025-06-25 03:10:04.818\u001b[0m | \u001b[1mINFO    \u001b[0m | \u001b[36m__main__\u001b[0m:\u001b[36m<module>\u001b[0m:\u001b[36m10\u001b[0m - \u001b[1mInitial session state: {'topic': 'a brave kitten exploring a haunted house'}\u001b[0m\n"
     ]
    }
   ],
   "source": [
    "# --- Setup Runner and Session ---\n",
    "session_service = InMemorySessionService()\n",
    "initial_state = {\"topic\": \"a brave kitten exploring a haunted house\"}\n",
    "session = await session_service.create_session(\n",
    "    app_name=APP_NAME,\n",
    "    user_id=USER_ID,\n",
    "    session_id=SESSION_ID,\n",
    "    state=initial_state # Pass initial state here\n",
    ")\n",
    "logger.info(f\"Initial session state: {session.state}\")\n",
    "\n",
    "runner = Runner(\n",
    "    agent=agent, # Pass the custom orchestrator agent\n",
    "    app_name=APP_NAME,\n",
    "    session_service=session_service\n",
    ")\n"
   ]
  },
  {
   "cell_type": "code",
   "execution_count": 7,
   "metadata": {},
   "outputs": [],
   "source": [
    "async def call_agent(user_input_topic: str):\n",
    "    \"\"\"\n",
    "    Sends a new topic to the agent (overwriting the initial one if needed)\n",
    "    and runs the workflow.\n",
    "    \"\"\"\n",
    "    content = types.Content(role='user', parts=[types.Part(text=f\"Generate a story about: {user_input_topic}\")])\n",
    "    events = runner.run(user_id=USER_ID, session_id=SESSION_ID, new_message=content)\n",
    "\n",
    "    final_response = \"No final response captured.\"\n",
    "    for event in events:\n",
    "        if event.is_final_response() and event.content and event.content.parts:\n",
    "            logger.info(f\"Potential final response from [{event.author}]: {event.content.parts[0].text}\")\n",
    "            final_response = event.content.parts[0].text\n",
    "\n",
    "    print(\"\\n--- Agent Interaction Result ---\")\n",
    "    print(\"Agent Final Response: \", final_response)\n",
    "\n",
    "    final_session = await session_service.get_session(app_name=APP_NAME, \n",
    "                                                user_id=USER_ID, \n",
    "                                                session_id=SESSION_ID)\n",
    "    print(\"Final Session State:\")\n",
    "    import json\n",
    "    print(json.dumps(final_session.state, indent=2))\n",
    "    print(\"-------------------------------\\n\")"
   ]
  },
  {
   "cell_type": "code",
   "execution_count": 8,
   "metadata": {},
   "outputs": [
    {
     "name": "stderr",
     "output_type": "stream",
     "text": [
      "\u001b[32m2025-06-25 03:10:04.828\u001b[0m | \u001b[1mINFO    \u001b[0m | \u001b[36m__main__\u001b[0m:\u001b[36mcall_agent\u001b[0m:\u001b[36m12\u001b[0m - \u001b[1mPotential final response from [dummy]: Ok\u001b[0m\n"
     ]
    },
    {
     "name": "stdout",
     "output_type": "stream",
     "text": [
      "\n",
      "--- Agent Interaction Result ---\n",
      "Agent Final Response:  Ok\n",
      "Final Session State:\n",
      "{\n",
      "  \"topic\": \"a brave kitten exploring a haunted house\"\n",
      "}\n",
      "-------------------------------\n",
      "\n"
     ]
    }
   ],
   "source": [
    "await call_agent(\"a lonely robot finding a friend in a junkyard\")\n"
   ]
  }
 ],
 "metadata": {
  "kernelspec": {
   "display_name": ".venv",
   "language": "python",
   "name": "python3"
  },
  "language_info": {
   "codemirror_mode": {
    "name": "ipython",
    "version": 3
   },
   "file_extension": ".py",
   "mimetype": "text/x-python",
   "name": "python",
   "nbconvert_exporter": "python",
   "pygments_lexer": "ipython3",
   "version": "3.12.4"
  }
 },
 "nbformat": 4,
 "nbformat_minor": 2
}
